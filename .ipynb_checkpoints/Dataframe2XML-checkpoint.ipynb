{
 "cells": [
  {
   "cell_type": "code",
   "execution_count": 2,
   "metadata": {},
   "outputs": [],
   "source": [
    "import pandas as pd\n",
    "import csv as cv"
   ]
  },
  {
   "cell_type": "code",
   "execution_count": 3,
   "metadata": {},
   "outputs": [],
   "source": [
    "\n",
    "def funcWriteXml(df):\n",
    "    \n",
    "    f = open('dataInput.xml', 'w')\n",
    "    f.write('<?xml version=\"1.0\" encoding=\"UTF-8\"?> \\n <Inputs> \\n')\n",
    "    \n",
    "    for i in range(0, df.shape[1]):\n",
    "        f.write('<Input> \\n <Feature-name>')\n",
    "        f.write(df.columns.values[i])\n",
    "        f.write('<\\Feature-name> \\n <Feature-type>')\n",
    "        f.write(str(df.dtypes[i]))\n",
    "        f.write('<\\Feature-type> \\n <Value> \\n <minVal>')\n",
    "        f.write(str(df.iloc[:, i].min()))\n",
    "        f.write('<\\minVal> \\n <maxVal>')\n",
    "        f.write(str(df.iloc[:, i].max()))\n",
    "        f.write('<\\maxVal> \\n <\\Value> \\n <\\Input>\\n')\n",
    "    \n",
    "    f.write('<\\Inputs>') \n",
    "    f.close()"
   ]
  },
  {
   "cell_type": "code",
   "execution_count": 4,
   "metadata": {},
   "outputs": [],
   "source": [
    "df = pd.read_csv('Datasets/Adult.csv')\n",
    "funcWriteXml(df)"
   ]
  },
  {
   "cell_type": "code",
   "execution_count": 13,
   "metadata": {},
   "outputs": [],
   "source": [
    "fe_dict = {}\n",
    "for i in range(0, df.shape[1]):\n",
    "    fe_dict[df.columns.values[i]] = str(df.dtypes[i])"
   ]
  },
  {
   "cell_type": "code",
   "execution_count": 17,
   "metadata": {
    "scrolled": true
   },
   "outputs": [],
   "source": [
    "try:\n",
    "    with open('feNameType.csv', 'w') as csv_file:\n",
    "        writer = cv.writer(csv_file)\n",
    "        for key, value in fe_dict.items():\n",
    "            writer.writerow([key, value])\n",
    "except IOError:\n",
    "    print(\"I/O error\")"
   ]
  },
  {
   "cell_type": "code",
   "execution_count": null,
   "metadata": {},
   "outputs": [],
   "source": []
  },
  {
   "cell_type": "code",
   "execution_count": null,
   "metadata": {},
   "outputs": [],
   "source": []
  }
 ],
 "metadata": {
  "kernelspec": {
   "display_name": "Python 3",
   "language": "python",
   "name": "python3"
  },
  "language_info": {
   "codemirror_mode": {
    "name": "ipython",
    "version": 3
   },
   "file_extension": ".py",
   "mimetype": "text/x-python",
   "name": "python",
   "nbconvert_exporter": "python",
   "pygments_lexer": "ipython3",
   "version": "3.7.6"
  }
 },
 "nbformat": 4,
 "nbformat_minor": 4
}
