{
 "cells": [
  {
   "cell_type": "code",
   "execution_count": 1,
   "metadata": {},
   "outputs": [],
   "source": [
    "import torch\n",
    "import torchvision\n",
    "import numpy as np\n",
    "from torchvision import transforms, datasets\n",
    "import torch.nn as nn\n",
    "import torch.nn.functional as F\n",
    "import torch.optim as optim\n",
    "import pandas as pd"
   ]
  },
  {
   "cell_type": "code",
   "execution_count": 2,
   "metadata": {},
   "outputs": [],
   "source": [
    "class LinearNet(nn.Module):\n",
    "    def __init__(self, input_size):\n",
    "        super(LinearNet, self).__init__()\n",
    "        with open('param_dict.csv') as csv_file:\n",
    "            reader = cv.reader(csv_file)\n",
    "            self.mydict = dict(reader)   \n",
    "        self.num_layers = int(self.mydict['no_of_layers'])\n",
    "        self.layers_size = int(self.mydict['layer_size'])\n",
    "        self.output_size = int(self.mydict['no_of_class'])\n",
    "        self.linears = nn.ModuleList([nn.Linear(input_size, self.layers_size)])\n",
    "        self.linears.extend([nn.Linear(self.layers_size, self.layers_size) for i in range(1, self.num_layers-1)])\n",
    "        self.linears.append(nn.Linear(self.layers_size, self.output_size))\n",
    "    \n",
    "    def forward(self, x):\n",
    "        for i in range(0, self.num_layers-1):\n",
    "            x = F.relu(self.linears[i](x))\n",
    "        x = self.linears[self.num_layers-1](x)    \n",
    "        return F.log_softmax(x, dim=1)  "
   ]
  },
  {
   "cell_type": "code",
   "execution_count": null,
   "metadata": {},
   "outputs": [],
   "source": [
    "def functrainDNN():\n",
    "    df = pd.read_csv('OracleData.csv')\n",
    "    data = df.values\n",
    "    with open('param_dict.csv') as csv_file:\n",
    "        reader = cv.reader(csv_file)\n",
    "        self.mydict = dict(reader) \n",
    "    \n",
    "    no_of_class = int(self.mydict['no_of_class']\n",
    "    X = data[:,:-no_of_class]\n",
    "    y = data[:, -no_of_class:]  \n",
    "    EPOCH = int(mydict['no_EPOCHS'])\n",
    "    X_train = torch.from_numpy(X).float()\n",
    "    #y_train = torch.squeeze(torch.from_numpy(y).long())\n",
    "    y_train = torch.tensor(y)\n",
    "    \n",
    "    net = LinearNet(input_size=df.shape[1]-1)\n",
    "    net(X_train)\n",
    "    criterion = nn.BCEWithLogitsLoss()\n",
    "    optimizer = optim.SGD(model.parameters(), lr=1e-1)\n",
    "\n",
    "    for epoch in range(0, EPOCH):\n",
    "        optimizer.zero_grad()\n",
    "        output = net(X_train)\n",
    "        loss = criterion(output, y_train)\n",
    "        loss.backward()\n",
    "        optimizer.step()\n",
    "        \n",
    "    MODEL_PATH = 'Model/dnn_model_multi'\n",
    "    torch.save(net, MODEL_PATH)   "
   ]
  }
 ],
 "metadata": {
  "kernelspec": {
   "display_name": "Python 3",
   "language": "python",
   "name": "python3"
  },
  "language_info": {
   "codemirror_mode": {
    "name": "ipython",
    "version": 3
   },
   "file_extension": ".py",
   "mimetype": "text/x-python",
   "name": "python",
   "nbconvert_exporter": "python",
   "pygments_lexer": "ipython3",
   "version": "3.7.6"
  }
 },
 "nbformat": 4,
 "nbformat_minor": 4
}
